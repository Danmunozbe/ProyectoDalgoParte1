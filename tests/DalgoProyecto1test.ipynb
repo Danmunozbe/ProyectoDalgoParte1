{
  "nbformat": 4,
  "nbformat_minor": 0,
  "metadata": {
    "colab": {
      "provenance": []
    },
    "kernelspec": {
      "name": "python3",
      "display_name": "Python 3"
    },
    "language_info": {
      "name": "python"
    }
  },
  "cells": [
    {
      "cell_type": "code",
      "source": [
        "def creativity(x, P):\n",
        "    \"\"\"\n",
        "    Calcula la creatividad de asignar x unidades de energía a una celda,\n",
        "    según las reglas con dígitos (3,6,9) y los pesos P.\n",
        "    \"\"\"\n",
        "    score = 0\n",
        "    pos = 0\n",
        "    while x > 0:\n",
        "        d = x % 10\n",
        "        if d in (3, 6, 9):\n",
        "            mult = d // 3  # 3->1, 6->2, 9->3\n",
        "            score += mult * P[pos]\n",
        "        pos += 1\n",
        "        x //= 10\n",
        "    return score"
      ],
      "metadata": {
        "id": "bBUt9h_bMFrh"
      },
      "execution_count": null,
      "outputs": []
    },
    {
      "cell_type": "code",
      "source": [
        "k=4\n",
        "N=600\n",
        "Pi=[1,2,3,4,5]\n",
        "dp = [[0]*(N+1) for _ in range(k+1)]\n",
        "\n",
        "for i in range (1,N+1):\n",
        "  dp[1][i]=creativity(i,Pi)\n",
        "\n",
        "\n",
        "for j in range(2,k+1):\n",
        "  for i in range (1,N+1):\n",
        "    for x in range (0,i):\n",
        "      dp[j][i]=max(dp[j][i],(dp[j-1][i-x]+dp[1][x]))\n",
        "print(int(dp[k][N]))"
      ],
      "metadata": {
        "colab": {
          "base_uri": "https://localhost:8080/"
        },
        "id": "z7FIa18WNK9T",
        "outputId": "e45d54e0-2c07-49a9-ad41-979bf26c929d"
      },
      "execution_count": null,
      "outputs": [
        {
          "output_type": "stream",
          "name": "stdout",
          "text": [
            "31\n"
          ]
        }
      ]
    },
    {
      "cell_type": "code",
      "source": [
        "\n",
        "k = 4\n",
        "N = 600\n",
        "Pi = [1, 2, 3, 4, 5]\n",
        "dp1=[0]*(N+1)\n",
        "act=[0]*(N+1)\n",
        "\n",
        "for i in range(1, N+1):\n",
        "    dp1[i] = creativity(i, Pi)\n",
        "\n",
        "# --- quedarnos solo con puntos crecientes ---\n",
        "candidates = []\n",
        "current_max = -1\n",
        "for i in range(3,N+1):\n",
        "    if dp1[i] > current_max:\n",
        "        candidates.append(i)\n",
        "        current_max = dp1[i]\n",
        "\n",
        "prev=dp1.copy()\n",
        "for j in range(2, k+1):\n",
        "    for i in range(3, N+1):\n",
        "        best = 0\n",
        "        for x in candidates:\n",
        "            if x > i:\n",
        "                break\n",
        "            best = max(best, prev[i-x] + dp1[x])\n",
        "        act[i] = best\n",
        "    prev = act.copy()\n",
        "\n",
        "print(int(act[N]))\n"
      ],
      "metadata": {
        "colab": {
          "base_uri": "https://localhost:8080/"
        },
        "id": "keKgOgz5WkAt",
        "outputId": "933d8e34-2236-4112-fbda-9e539f8cfa77"
      },
      "execution_count": 204,
      "outputs": [
        {
          "output_type": "stream",
          "name": "stdout",
          "text": [
            "31\n"
          ]
        }
      ]
    }
  ]
}